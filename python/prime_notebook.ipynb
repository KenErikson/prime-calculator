{
 "cells": [
  {
   "cell_type": "markdown",
   "source": [
    "### Prime Calculator\r\n",
    "\r\n",
    "Going to work ok, see how many I can get in 1 second"
   ],
   "metadata": {}
  },
  {
   "cell_type": "code",
   "execution_count": 5,
   "source": [
    "print(\"It's been a while since I opened an ipynb\")\r\n",
    "\r\n",
    "my_list = [ 1,2,3]\r\n",
    "print(type(my_list ))\r\n",
    "my_list.append(4)\r\n",
    "print(my_list)"
   ],
   "outputs": [
    {
     "output_type": "stream",
     "name": "stdout",
     "text": [
      "It's been a while since I opened an ipynb\n",
      "<class 'list'>\n",
      "[1, 2, 3, 4]\n"
     ]
    }
   ],
   "metadata": {}
  },
  {
   "cell_type": "code",
   "execution_count": 10,
   "source": [
    "import time\r\n",
    "import sympy # validator\r\n",
    "\r\n",
    "primes = [2]\r\n",
    "\r\n",
    "start_time = time.time()\r\n",
    "end_time = time.time() + 1\r\n",
    "\r\n",
    "potential_prime = 3\r\n",
    "\r\n",
    "while time.time() < end_time:\r\n",
    "    divider = 3\r\n",
    "    #print(potential_prime)\r\n",
    "    is_prime = True\r\n",
    "    while divider <= potential_prime / 3:\r\n",
    "        if potential_prime % divider == 0:\r\n",
    "            #print(\"Not Prime: %d divisibly by %d\" % (potential_prime,divider))\r\n",
    "            is_prime = False\r\n",
    "            break;\r\n",
    "        divider +=2\r\n",
    "    if is_prime:\r\n",
    "        #print(\"Prime: %d\" % potential_prime)\r\n",
    "        primes.append(potential_prime)\r\n",
    "        \r\n",
    "    #if potential_prime > 100:\r\n",
    "    #    break\r\n",
    "    potential_prime += 2\r\n",
    "\r\n",
    "end_time = time.time()\r\n",
    "\r\n",
    "#print(primes)\r\n",
    "print(\"Found %d primes in %f sec\" % (len(primes),(end_time-start_time)))\r\n",
    "print(\"The last 5 are:\")\r\n",
    "for i in range(5):\r\n",
    "    print(primes[-i-1])\r\n",
    "\r\n",
    "# Validator:\r\n",
    "for prime in primes:\r\n",
    "    if not sympy.isprime(prime):\r\n",
    "        print(\"%d is not prime\" % prime)\r\n",
    "        raise Exception(\"NOT PRIME FOUND\")\r\n",
    "\r\n",
    "# Validated count with https://www.dcode.fr/prime-number-pi-count\r\n"
   ],
   "outputs": [
    {
     "output_type": "stream",
     "name": "stdout",
     "text": [
      "Found 3899 primes in 1.000001 sec\n",
      "The last 5 are:\n",
      "36779\n",
      "36767\n",
      "36761\n",
      "36749\n",
      "36739\n"
     ]
    }
   ],
   "metadata": {}
  },
  {
   "cell_type": "code",
   "execution_count": 11,
   "source": [
    "# ignore below, optimization calc\r\n",
    "potential_prime = 13\r\n",
    "\r\n",
    "for i in range(10):\r\n",
    "    print(\"Testing: %d\" % potential_prime)\r\n",
    "    divider = potential_prime // 2 + 1\r\n",
    "    while divider > 1:\r\n",
    "        print(divider)\r\n",
    "        divider-=2\r\n",
    "    potential_prime +=2"
   ],
   "outputs": [
    {
     "output_type": "stream",
     "name": "stdout",
     "text": [
      "Testing: 13\n",
      "7\n",
      "5\n",
      "3\n",
      "Testing: 15\n",
      "8\n",
      "6\n",
      "4\n",
      "2\n",
      "Testing: 17\n",
      "9\n",
      "7\n",
      "5\n",
      "3\n",
      "Testing: 19\n",
      "10\n",
      "8\n",
      "6\n",
      "4\n",
      "2\n",
      "Testing: 21\n",
      "11\n",
      "9\n",
      "7\n",
      "5\n",
      "3\n",
      "Testing: 23\n",
      "12\n",
      "10\n",
      "8\n",
      "6\n",
      "4\n",
      "2\n",
      "Testing: 25\n",
      "13\n",
      "11\n",
      "9\n",
      "7\n",
      "5\n",
      "3\n",
      "Testing: 27\n",
      "14\n",
      "12\n",
      "10\n",
      "8\n",
      "6\n",
      "4\n",
      "2\n",
      "Testing: 29\n",
      "15\n",
      "13\n",
      "11\n",
      "9\n",
      "7\n",
      "5\n",
      "3\n",
      "Testing: 31\n",
      "16\n",
      "14\n",
      "12\n",
      "10\n",
      "8\n",
      "6\n",
      "4\n",
      "2\n"
     ]
    }
   ],
   "metadata": {}
  }
 ],
 "metadata": {
  "orig_nbformat": 4,
  "language_info": {
   "name": "python",
   "version": "3.9.12",
   "mimetype": "text/x-python",
   "codemirror_mode": {
    "name": "ipython",
    "version": 3
   },
   "pygments_lexer": "ipython3",
   "nbconvert_exporter": "python",
   "file_extension": ".py"
  },
  "kernelspec": {
   "name": "python3",
   "display_name": "Python 3.9.12 64-bit ('prime': venv)"
  },
  "interpreter": {
   "hash": "dcb93ec75404cf5a65b891474f039cee238fcb550830736e719edfba068b870c"
  }
 },
 "nbformat": 4,
 "nbformat_minor": 2
}
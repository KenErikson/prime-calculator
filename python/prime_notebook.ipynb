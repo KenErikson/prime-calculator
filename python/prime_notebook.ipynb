{
 "cells": [
  {
   "cell_type": "markdown",
   "source": [
    "### Prime Calculator\r\n",
    "\r\n",
    "Going to work ok, see how many I can get in 1 second"
   ],
   "metadata": {}
  },
  {
   "cell_type": "code",
   "execution_count": 5,
   "source": [
    "print(\"It's been a while since I opened an ipynb\")\r\n",
    "\r\n",
    "my_list = [ 1,2,3]\r\n",
    "print(type(my_list ))\r\n",
    "my_list.append(4)\r\n",
    "print(my_list)"
   ],
   "outputs": [
    {
     "output_type": "stream",
     "name": "stdout",
     "text": [
      "It's been a while since I opened an ipynb\n",
      "<class 'list'>\n",
      "[1, 2, 3, 4]\n"
     ]
    }
   ],
   "metadata": {}
  },
  {
   "cell_type": "code",
   "execution_count": 35,
   "source": [
    "import time\r\n",
    "\r\n",
    "primes = [2]\r\n",
    "\r\n",
    "start_time = time.time()\r\n",
    "end_time = time.time() + 1\r\n",
    "\r\n",
    "potential_prime = 3\r\n",
    "\r\n",
    "while time.time() < end_time:\r\n",
    "    divider = 3\r\n",
    "    #print(potential_prime)\r\n",
    "    is_prime = True\r\n",
    "    while divider < potential_prime / 2:\r\n",
    "        if potential_prime % divider == 0:\r\n",
    "            #print(\"Not Prime: %d divisibly by %d\" % (potential_prime,divider))\r\n",
    "            is_prime = False\r\n",
    "            break;\r\n",
    "        divider +=2\r\n",
    "    if is_prime:\r\n",
    "        #print(\"Prime: %d\" % potential_prime)\r\n",
    "        primes.append(potential_prime)\r\n",
    "        \r\n",
    "    #if potential_prime > 100:\r\n",
    "    #    break\r\n",
    "    potential_prime += 2\r\n",
    "\r\n",
    "end_time = time.time()\r\n",
    "\r\n",
    "#print(primes)\r\n",
    "print(\"Found %d primes in %f sec\" % (len(primes),(end_time-start_time)))\r\n",
    "print(\"The last 5 are:\")\r\n",
    "for i in range(5):\r\n",
    "    print(primes[-i-1])\r\n",
    "\r\n",
    "import sympy\r\n",
    "\r\n",
    "for prime in primes:\r\n",
    "    if not sympy.isprime(prime):\r\n",
    "        print(\"%d is not prime\" % prime)\r\n",
    "        raise Exception(\"NOT PRIME FOUND\")\r\n"
   ],
   "outputs": [
    {
     "output_type": "stream",
     "name": "stdout",
     "text": [
      "Found 3144 primes in 1.000998 sec\n",
      "The last 5 are:\n",
      "28867\n",
      "28859\n",
      "28843\n",
      "28837\n",
      "28817\n",
      "1 is not prime\n"
     ]
    },
    {
     "output_type": "error",
     "ename": "Exception",
     "evalue": "NOT PRIME FOUND",
     "traceback": [
      "\u001b[1;31m---------------------------------------------------------------------------\u001b[0m",
      "\u001b[1;31mException\u001b[0m                                 Traceback (most recent call last)",
      "Input \u001b[1;32mIn [35]\u001b[0m, in \u001b[0;36m<cell line: 38>\u001b[1;34m()\u001b[0m\n\u001b[0;32m     39\u001b[0m \u001b[38;5;28;01mif\u001b[39;00m \u001b[38;5;129;01mnot\u001b[39;00m sympy\u001b[38;5;241m.\u001b[39misprime(prime):\n\u001b[0;32m     40\u001b[0m     \u001b[38;5;28mprint\u001b[39m(\u001b[38;5;124m\"\u001b[39m\u001b[38;5;132;01m%d\u001b[39;00m\u001b[38;5;124m is not prime\u001b[39m\u001b[38;5;124m\"\u001b[39m \u001b[38;5;241m%\u001b[39m prime)\n\u001b[1;32m---> 41\u001b[0m     \u001b[38;5;28;01mraise\u001b[39;00m \u001b[38;5;167;01mException\u001b[39;00m(\u001b[38;5;124m\"\u001b[39m\u001b[38;5;124mNOT PRIME FOUND\u001b[39m\u001b[38;5;124m\"\u001b[39m)\n",
      "\u001b[1;31mException\u001b[0m: NOT PRIME FOUND"
     ]
    }
   ],
   "metadata": {}
  },
  {
   "cell_type": "code",
   "execution_count": null,
   "source": [],
   "outputs": [],
   "metadata": {}
  }
 ],
 "metadata": {
  "orig_nbformat": 4,
  "language_info": {
   "name": "python",
   "version": "3.9.12",
   "mimetype": "text/x-python",
   "codemirror_mode": {
    "name": "ipython",
    "version": 3
   },
   "pygments_lexer": "ipython3",
   "nbconvert_exporter": "python",
   "file_extension": ".py"
  },
  "kernelspec": {
   "name": "python3",
   "display_name": "Python 3.9.12 64-bit ('prime': venv)"
  },
  "interpreter": {
   "hash": "dcb93ec75404cf5a65b891474f039cee238fcb550830736e719edfba068b870c"
  }
 },
 "nbformat": 4,
 "nbformat_minor": 2
}